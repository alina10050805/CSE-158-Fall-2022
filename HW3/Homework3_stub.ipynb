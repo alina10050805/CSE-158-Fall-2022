{
 "cells": [
  {
   "cell_type": "code",
   "execution_count": 1,
   "id": "301bf995",
   "metadata": {},
   "outputs": [],
   "source": [
    "import gzip\n",
    "from collections import defaultdict\n",
    "import math\n",
    "import scipy.optimize\n",
    "from sklearn import svm\n",
    "import numpy\n",
    "import string\n",
    "import random\n",
    "import string\n",
    "from sklearn import linear_model"
   ]
  },
  {
   "cell_type": "code",
   "execution_count": 2,
   "id": "31cab31f",
   "metadata": {},
   "outputs": [],
   "source": [
    "import warnings\n",
    "warnings.filterwarnings(\"ignore\")"
   ]
  },
  {
   "cell_type": "code",
   "execution_count": 3,
   "id": "33f967ad",
   "metadata": {},
   "outputs": [],
   "source": [
    "def assertFloat(x):\n",
    "    assert type(float(x)) == float\n",
    "\n",
    "def assertFloatList(items, N):\n",
    "    assert len(items) == N\n",
    "    assert [type(float(x)) for x in items] == [float]*N"
   ]
  },
  {
   "cell_type": "code",
   "execution_count": 4,
   "id": "3e25a33f",
   "metadata": {},
   "outputs": [],
   "source": [
    "def readGz(path):\n",
    "    for l in gzip.open(path, 'rt'):\n",
    "        yield eval(l)"
   ]
  },
  {
   "cell_type": "code",
   "execution_count": 5,
   "id": "f88efc3b",
   "metadata": {},
   "outputs": [],
   "source": [
    "def readCSV(path):\n",
    "    f = gzip.open(path, 'rt')\n",
    "    f.readline()\n",
    "    for l in f:\n",
    "        u,b,r = l.strip().split(',')\n",
    "        r = int(r)\n",
    "        yield u,b,r"
   ]
  },
  {
   "cell_type": "code",
   "execution_count": 6,
   "id": "3a5f39ec",
   "metadata": {},
   "outputs": [],
   "source": [
    "answers = {}"
   ]
  },
  {
   "cell_type": "code",
   "execution_count": 7,
   "id": "b3b16eab",
   "metadata": {},
   "outputs": [],
   "source": [
    "# Some data structures that will be useful"
   ]
  },
  {
   "cell_type": "code",
   "execution_count": 8,
   "id": "09ac1dc4",
   "metadata": {},
   "outputs": [],
   "source": [
    "allRatings = []\n",
    "for l in readCSV(\"train_Interactions.csv.gz\"):\n",
    "    allRatings.append(l)"
   ]
  },
  {
   "cell_type": "code",
   "execution_count": 9,
   "id": "e4717806",
   "metadata": {},
   "outputs": [
    {
     "data": {
      "text/plain": [
       "200000"
      ]
     },
     "execution_count": 9,
     "metadata": {},
     "output_type": "execute_result"
    }
   ],
   "source": [
    "len(allRatings)"
   ]
  },
  {
   "cell_type": "code",
   "execution_count": 10,
   "id": "ca3c2a44",
   "metadata": {},
   "outputs": [],
   "source": [
    "ratingsTrain = allRatings[:190000]\n",
    "ratingsValid = allRatings[190000:]\n",
    "ratingsPerUser = defaultdict(list)\n",
    "ratingsPerItem = defaultdict(list)\n",
    "for u,b,r in ratingsTrain:\n",
    "    ratingsPerUser[u].append((b,r))\n",
    "    ratingsPerItem[b].append((u,r))"
   ]
  },
  {
   "cell_type": "code",
   "execution_count": null,
   "id": "bcf70975",
   "metadata": {},
   "outputs": [],
   "source": [
    "##################################################\n",
    "# Rating prediction (CSE258 only)                #\n",
    "##################################################"
   ]
  },
  {
   "cell_type": "code",
   "execution_count": null,
   "id": "af7f3f37",
   "metadata": {},
   "outputs": [],
   "source": []
  },
  {
   "cell_type": "code",
   "execution_count": null,
   "id": "95b960a7",
   "metadata": {},
   "outputs": [],
   "source": [
    "### Question 9"
   ]
  },
  {
   "cell_type": "code",
   "execution_count": null,
   "id": "6d69e40f",
   "metadata": {},
   "outputs": [],
   "source": []
  },
  {
   "cell_type": "code",
   "execution_count": null,
   "id": "422ab930",
   "metadata": {},
   "outputs": [],
   "source": [
    "answers['Q9'] = validMSE"
   ]
  },
  {
   "cell_type": "code",
   "execution_count": null,
   "id": "5509bf2a",
   "metadata": {},
   "outputs": [],
   "source": [
    "assertFloat(answers['Q9'])"
   ]
  },
  {
   "cell_type": "code",
   "execution_count": null,
   "id": "9826cdc9",
   "metadata": {},
   "outputs": [],
   "source": [
    "### Question 10"
   ]
  },
  {
   "cell_type": "code",
   "execution_count": null,
   "id": "c61b675c",
   "metadata": {},
   "outputs": [],
   "source": [
    "answers['Q10'] = [maxUser, minUser, maxBeta, minBeta]"
   ]
  },
  {
   "cell_type": "code",
   "execution_count": null,
   "id": "7aca2bc7",
   "metadata": {},
   "outputs": [],
   "source": [
    "assert [type(x) for x in answers['Q10']] == [str, str, float, float]"
   ]
  },
  {
   "cell_type": "code",
   "execution_count": null,
   "id": "0a416949",
   "metadata": {},
   "outputs": [],
   "source": [
    "### Question 11"
   ]
  },
  {
   "cell_type": "code",
   "execution_count": null,
   "id": "ae54cf47",
   "metadata": {},
   "outputs": [],
   "source": []
  },
  {
   "cell_type": "code",
   "execution_count": null,
   "id": "f1880fc9",
   "metadata": {},
   "outputs": [],
   "source": [
    "answers['Q11'] = (lamb, validMSE)"
   ]
  },
  {
   "cell_type": "code",
   "execution_count": null,
   "id": "56b09160",
   "metadata": {},
   "outputs": [],
   "source": [
    "assertFloat(answers['Q11'][0])\n",
    "assertFloat(answers['Q11'][1])"
   ]
  },
  {
   "cell_type": "code",
   "execution_count": null,
   "id": "b9bd53b3",
   "metadata": {},
   "outputs": [],
   "source": [
    "predictions = open(\"predictions_Rating.csv\", 'w')\n",
    "for l in open(\"pairs_Rating.csv\"):\n",
    "    if l.startswith(\"userID\"): # header\n",
    "        predictions.write(l)\n",
    "        continue\n",
    "    u,b = l.strip().split(',') # Read the user and item from the \"pairs\" file and write out your prediction\n",
    "    # (etc.)\n",
    "    \n",
    "predictions.close()"
   ]
  },
  {
   "cell_type": "code",
   "execution_count": 11,
   "id": "93959f65",
   "metadata": {},
   "outputs": [],
   "source": [
    "##################################################\n",
    "# Read prediction                                #\n",
    "##################################################"
   ]
  },
  {
   "cell_type": "code",
   "execution_count": 12,
   "id": "abb17ed7",
   "metadata": {},
   "outputs": [],
   "source": [
    "# Copied from baseline code\n",
    "bookCount = defaultdict(int)\n",
    "totalRead = 0\n",
    "\n",
    "for user,book,_ in readCSV(\"train_Interactions.csv.gz\"):\n",
    "    bookCount[book] += 1\n",
    "    totalRead += 1\n",
    "\n",
    "mostPopular = [(bookCount[x], x) for x in bookCount]\n",
    "mostPopular.sort()\n",
    "mostPopular.reverse()\n",
    "\n",
    "return1 = set()\n",
    "count = 0\n",
    "for ic, i in mostPopular:\n",
    "    count += ic\n",
    "    return1.add(i)\n",
    "    if count > totalRead/2: break"
   ]
  },
  {
   "cell_type": "markdown",
   "id": "586540f6",
   "metadata": {},
   "source": []
  },
  {
   "cell_type": "code",
   "execution_count": 13,
   "id": "8ce696c1",
   "metadata": {},
   "outputs": [
    {
     "name": "stdout",
     "output_type": "stream",
     "text": [
      "('u67805239', 'b61372131', 4)\n"
     ]
    }
   ],
   "source": [
    "print(allRatings[0])"
   ]
  },
  {
   "cell_type": "code",
   "execution_count": 14,
   "id": "80f40789",
   "metadata": {},
   "outputs": [],
   "source": [
    "### Question 1"
   ]
  },
  {
   "cell_type": "code",
   "execution_count": 15,
   "id": "7c9eea8f",
   "metadata": {},
   "outputs": [],
   "source": [
    "valid = [[d[0], d[1], 1] for d in ratingsValid]\n",
    "\n",
    "books = set()\n",
    "booksPerUser = defaultdict(set)\n",
    "usersPerBook = defaultdict(set)\n",
    "for u,b,r in readCSV(\"train_Interactions.csv.gz\"):\n",
    "    usersPerBook[b].add(u)\n",
    "    booksPerUser[u].add(b)\n",
    "    books.add(b)\n",
    "\n",
    "userValid = [d[0] for d in valid]\n",
    "for u in userValid:\n",
    "    noReadBooks = books - booksPerUser[u]\n",
    "    randomBook = random.choice(list(noReadBooks))\n",
    "    valid.append([u, randomBook, 0])\n",
    "\n",
    "xValid = [[d[0], d[1]] for d in valid]\n",
    "yValid = [d[2] for d in valid]\n",
    "\n",
    "prediction = []\n",
    "for d in xValid:\n",
    "    if d[1] in return1:\n",
    "        prediction.append(1)\n",
    "    else:\n",
    "        prediction.append(0)\n",
    "\n",
    "predValid = numpy.array(prediction) == numpy.array(yValid)\n",
    "acc1 = sum(predValid) / len(predValid)"
   ]
  },
  {
   "cell_type": "code",
   "execution_count": 16,
   "id": "8af7b181",
   "metadata": {},
   "outputs": [
    {
     "data": {
      "text/plain": [
       "0.7074"
      ]
     },
     "execution_count": 16,
     "metadata": {},
     "output_type": "execute_result"
    }
   ],
   "source": [
    "answers['Q1'] = acc1\n",
    "answers['Q1']"
   ]
  },
  {
   "cell_type": "code",
   "execution_count": 17,
   "id": "6839df36",
   "metadata": {},
   "outputs": [],
   "source": [
    "assertFloat(answers['Q1'])"
   ]
  },
  {
   "cell_type": "code",
   "execution_count": 18,
   "id": "50491907",
   "metadata": {},
   "outputs": [],
   "source": [
    "### Question 2"
   ]
  },
  {
   "cell_type": "code",
   "execution_count": 19,
   "id": "87e03b83",
   "metadata": {},
   "outputs": [],
   "source": [
    "bookCount = defaultdict(int)\n",
    "totalRead = 0\n",
    "\n",
    "for user,book,_ in readCSV(\"train_Interactions.csv.gz\"):\n",
    "    bookCount[book] += 1\n",
    "    totalRead += 1\n",
    "\n",
    "mostPopular = [(bookCount[x], x) for x in bookCount]\n",
    "mostPopular.sort()\n",
    "mostPopular.reverse()\n",
    "\n",
    "acc2 = 0\n",
    "threshold = 0\n",
    "for thre in range(1, 101):\n",
    "    return1 = set()\n",
    "    count = 0\n",
    "    for ic, i in mostPopular:\n",
    "        count += ic\n",
    "        return1.add(i)\n",
    "        if count > totalRead * thre * 0.01: break\n",
    "\n",
    "    prediction = []\n",
    "    for d in xValid:\n",
    "        if d[1] in return1:\n",
    "            prediction.append(1)\n",
    "        else:\n",
    "            prediction.append(0)\n",
    "\n",
    "    predValid = numpy.array(prediction) == numpy.array(yValid)\n",
    "    accThre = sum(predValid) / len(predValid)\n",
    " \n",
    "    if accThre > acc2:\n",
    "        acc2 = accThre\n",
    "        threshold = thre * 0.01"
   ]
  },
  {
   "cell_type": "code",
   "execution_count": 20,
   "id": "263c16a7",
   "metadata": {},
   "outputs": [
    {
     "data": {
      "text/plain": [
       "[0.72, 0.7509]"
      ]
     },
     "execution_count": 20,
     "metadata": {},
     "output_type": "execute_result"
    }
   ],
   "source": [
    "answers['Q2'] = [threshold, acc2]\n",
    "answers['Q2']"
   ]
  },
  {
   "cell_type": "code",
   "execution_count": 21,
   "id": "fcb6b96c",
   "metadata": {},
   "outputs": [],
   "source": [
    "assertFloat(answers['Q2'][0])\n",
    "assertFloat(answers['Q2'][1])"
   ]
  },
  {
   "cell_type": "code",
   "execution_count": 22,
   "id": "b753559d",
   "metadata": {},
   "outputs": [],
   "source": [
    "### Question 3/4"
   ]
  },
  {
   "cell_type": "code",
   "execution_count": 23,
   "id": "04a6f2e1",
   "metadata": {},
   "outputs": [
    {
     "data": {
      "text/plain": [
       "0.5098"
      ]
     },
     "execution_count": 23,
     "metadata": {},
     "output_type": "execute_result"
    }
   ],
   "source": [
    "def Jaccard(s1, s2):\n",
    "    numer = len(s1.intersection(s2))\n",
    "    denom = len(s1.union(s2))\n",
    "    if denom == 0:\n",
    "        return 0\n",
    "    return numer / denom\n",
    "\n",
    "def mostSimilar(u, b):\n",
    "    similarities = []\n",
    "    books = booksPerUser[u]\n",
    "    for book in books:\n",
    "        if book == b: continue\n",
    "        sim = Jaccard(usersPerBook[b], usersPerBook[book])\n",
    "        similarities.append(sim)\n",
    "    similarities.sort(reverse=True)\n",
    "    return similarities[:10]\n",
    "    \n",
    "acc3 = 0\n",
    "threshold = 0\n",
    "for thre in range(1, 11):\n",
    "    similarList = []\n",
    "    prediction = 0\n",
    "    tempYValid = []\n",
    "    for d in valid:\n",
    "        similarList = mostSimilar(d[0], d[1])\n",
    "\n",
    "        if len(similarList)==0: continue\n",
    "        tempYValid.append(d[2])\n",
    "\n",
    "        if similarList[0] > thre * 0.1:\n",
    "            prediction += (d[2]==1)\n",
    "        else:\n",
    "            prediction += (d[2]==0)\n",
    "\n",
    "    #predValid = numpy.array(prediction) == numpy.array(tempYValid)\n",
    "    accThre = prediction / len(valid)\n",
    " \n",
    "    if accThre > acc3:\n",
    "        acc3 = accThre\n",
    "        threshold = thre * 0.1\n",
    "\n",
    "acc3"
   ]
  },
  {
   "cell_type": "code",
   "execution_count": 24,
   "id": "3c38d865",
   "metadata": {},
   "outputs": [
    {
     "data": {
      "text/plain": [
       "0.7606769138336754"
      ]
     },
     "execution_count": 24,
     "metadata": {},
     "output_type": "execute_result"
    }
   ],
   "source": [
    "return1 = set()\n",
    "count = 0\n",
    "thresholdPopular = answers['Q2'][0]\n",
    "thresholdJaccard = threshold\n",
    "\n",
    "for ic, i in mostPopular:\n",
    "    count += ic\n",
    "    return1.add(i)\n",
    "    if count > totalRead * thresholdPopular: break\n",
    "\n",
    "prediction = []\n",
    "tempYValid = []\n",
    "for d in valid:\n",
    "    similarList = mostSimilar(d[0], d[1])\n",
    "\n",
    "    if len(similarList)==0: continue\n",
    "    tempYValid.append(d[2])\n",
    "\n",
    "    if d[1] in return1 or similarList[0] > thresholdJaccard:\n",
    "        prediction.append(1)\n",
    "    else:\n",
    "        prediction.append(0)\n",
    "\n",
    "predValid = numpy.array(prediction) == numpy.array(tempYValid)\n",
    "acc4 = sum(predValid) / len(predValid)\n",
    "acc4"
   ]
  },
  {
   "cell_type": "code",
   "execution_count": 25,
   "id": "83ab0986",
   "metadata": {},
   "outputs": [
    {
     "name": "stdout",
     "output_type": "stream",
     "text": [
      "0.5098\n",
      "0.7606769138336754\n"
     ]
    }
   ],
   "source": [
    "answers['Q3'] = acc3\n",
    "answers['Q4'] = acc4\n",
    "print(answers['Q3'])\n",
    "print(answers['Q4'])"
   ]
  },
  {
   "cell_type": "code",
   "execution_count": 26,
   "id": "fbdd0c83",
   "metadata": {},
   "outputs": [],
   "source": [
    "assertFloat(answers['Q3'])\n",
    "assertFloat(answers['Q4'])"
   ]
  },
  {
   "cell_type": "code",
   "execution_count": 27,
   "id": "3e68cbed",
   "metadata": {},
   "outputs": [],
   "source": [
    "predictions = open(\"predictions_Read.csv\", 'w')\n",
    "for l in open(\"pairs_Read.csv\"):\n",
    "    if l.startswith(\"userID\"):\n",
    "        predictions.write(l)\n",
    "        continue\n",
    "    u,b = l.strip().split(',')\n",
    "    # (etc.)\n",
    "    similarList = mostSimilar(u, b)\n",
    "\n",
    "    if len(similarList)==0:\n",
    "        predictions.write(u + \",\" + b + \",\" + \"0\\n\")\n",
    "        continue\n",
    "\n",
    "    if b in return1 or similarList[0] > thresholdJaccard:\n",
    "        predictions.write(u + \",\" + b + \",\" + \"1\\n\")\n",
    "    else:\n",
    "        predictions.write(u + \",\" + b + \",\" + \"0\\n\")\n",
    "\n",
    "predictions.close()"
   ]
  },
  {
   "cell_type": "code",
   "execution_count": 28,
   "id": "297b5c85",
   "metadata": {},
   "outputs": [],
   "source": [
    "answers['Q5'] = \"I confirm that I have uploaded an assignment submission to gradescope\""
   ]
  },
  {
   "cell_type": "code",
   "execution_count": 29,
   "id": "b3cb95e6",
   "metadata": {},
   "outputs": [],
   "source": [
    "assert type(answers['Q5']) == str"
   ]
  },
  {
   "cell_type": "code",
   "execution_count": 30,
   "id": "d87b97a5",
   "metadata": {},
   "outputs": [],
   "source": [
    "##################################################\n",
    "# Category prediction (CSE158 only)              #\n",
    "##################################################"
   ]
  },
  {
   "cell_type": "code",
   "execution_count": 31,
   "id": "84cdc447",
   "metadata": {},
   "outputs": [],
   "source": [
    "### Question 6"
   ]
  },
  {
   "cell_type": "code",
   "execution_count": 32,
   "id": "2bf8b34f",
   "metadata": {},
   "outputs": [],
   "source": [
    "data = []\n",
    "\n",
    "for d in readGz(\"train_Category.json.gz\"):\n",
    "    data.append(d)"
   ]
  },
  {
   "cell_type": "code",
   "execution_count": 33,
   "id": "a696b146",
   "metadata": {},
   "outputs": [
    {
     "data": {
      "text/plain": [
       "{'user_id': 'u75242413',\n",
       " 'review_id': 'r45843137',\n",
       " 'rating': 4,\n",
       " 'review_text': \"a clever book with a deeply troubling premise and an intriguing protagonist. Thompson's clean, sparse prose style kept each page feeling light even as some rather heavy existential questions dropped upon them. I enjoyed it. \\n and that cover design is boom-pow gorgeous.\",\n",
       " 'n_votes': 1,\n",
       " 'genre': 'mystery_thriller_crime',\n",
       " 'genreID': 3}"
      ]
     },
     "execution_count": 33,
     "metadata": {},
     "output_type": "execute_result"
    }
   ],
   "source": [
    "data[0]"
   ]
  },
  {
   "cell_type": "code",
   "execution_count": 34,
   "id": "b0d014ea",
   "metadata": {},
   "outputs": [],
   "source": [
    "trainCategory = data[:90000]\n",
    "validCategory = data[90000:]\n",
    "\n",
    "wordCount = defaultdict(int)\n",
    "punctuation = set(string.punctuation)\n",
    "totalWords = 0\n",
    "for d in trainCategory:\n",
    "    r = ''.join([c for c in d['review_text'].lower() if not c in punctuation])\n",
    "    for w in r.split():\n",
    "        totalWords += 1\n",
    "        wordCount[w] += 1\n",
    "\n",
    "counts = [(wordCount[w], w) for w in wordCount]\n",
    "counts.sort()\n",
    "counts.reverse()"
   ]
  },
  {
   "cell_type": "code",
   "execution_count": 35,
   "id": "59d6e7a1",
   "metadata": {},
   "outputs": [
    {
     "data": {
      "text/plain": [
       "[(666039, 'the'),\n",
       " (402958, 'and'),\n",
       " (354159, 'a'),\n",
       " (336144, 'to'),\n",
       " (328560, 'i'),\n",
       " (292310, 'of'),\n",
       " (197178, 'is'),\n",
       " (191392, 'in'),\n",
       " (184705, 'it'),\n",
       " (174671, 'this')]"
      ]
     },
     "execution_count": 35,
     "metadata": {},
     "output_type": "execute_result"
    }
   ],
   "source": [
    "answers['Q6'] = counts[:10]\n",
    "answers['Q6']"
   ]
  },
  {
   "cell_type": "code",
   "execution_count": 36,
   "id": "f73d9e19",
   "metadata": {},
   "outputs": [],
   "source": [
    "assert [type(x[0]) for x in answers['Q6']] == [int]*10\n",
    "assert [type(x[1]) for x in answers['Q6']] == [str]*10"
   ]
  },
  {
   "cell_type": "code",
   "execution_count": 37,
   "id": "7e4cc861",
   "metadata": {},
   "outputs": [],
   "source": [
    "### Question 7"
   ]
  },
  {
   "cell_type": "code",
   "execution_count": 38,
   "id": "c97fc468",
   "metadata": {},
   "outputs": [],
   "source": [
    "words = [x[1] for x in counts[:1000]]\n",
    "wordId = dict(zip(words, range(len(words))))\n",
    "wordSet = set(words)\n",
    "\n",
    "def feature(datum):\n",
    "    feat = [0]*len(words)\n",
    "    r = ''.join([c for c in datum['review_text'].lower() if not c in punctuation])\n",
    "    \n",
    "    for w in r.split():\n",
    "        if w in words:\n",
    "            feat[wordId[w]] += 1\n",
    "    feat.append(1) #offset\n",
    "    return feat\n",
    "\n",
    "X = [feature(d) for d in data]\n",
    "y = [d['genreID'] for d in data]"
   ]
  },
  {
   "cell_type": "code",
   "execution_count": 39,
   "id": "4b717508",
   "metadata": {},
   "outputs": [],
   "source": [
    "Xtrain = X[:9*len(X)//10]\n",
    "ytrain = y[:9*len(y)//10]\n",
    "Xvalid = X[9*len(X)//10:]\n",
    "yvalid = y[9*len(y)//10:]"
   ]
  },
  {
   "cell_type": "code",
   "execution_count": 40,
   "id": "acec533e",
   "metadata": {},
   "outputs": [],
   "source": [
    "model = linear_model.LogisticRegression()\n",
    "model.fit(Xtrain, ytrain)\n",
    "predictions = model.predict(Xvalid)\n",
    "correct = predictions == yvalid\n",
    "acc7 = sum(correct) / len(correct)"
   ]
  },
  {
   "cell_type": "code",
   "execution_count": 41,
   "id": "7f1d72ee",
   "metadata": {},
   "outputs": [
    {
     "data": {
      "text/plain": [
       "0.6407"
      ]
     },
     "execution_count": 41,
     "metadata": {},
     "output_type": "execute_result"
    }
   ],
   "source": [
    "answers['Q7'] = acc7\n",
    "answers['Q7']"
   ]
  },
  {
   "cell_type": "code",
   "execution_count": 42,
   "id": "127355fd",
   "metadata": {},
   "outputs": [],
   "source": [
    "assertFloat(answers['Q7'])"
   ]
  },
  {
   "cell_type": "code",
   "execution_count": 43,
   "id": "152d93cd",
   "metadata": {},
   "outputs": [],
   "source": [
    "### Question 8"
   ]
  },
  {
   "cell_type": "code",
   "execution_count": 44,
   "id": "8a320ad8",
   "metadata": {},
   "outputs": [],
   "source": [
    "X_train = X[:8*len(X)//10]\n",
    "y_train = y[:8*len(y)//10]\n",
    "X_valid = X[8*len(X)//10:]\n",
    "y_valid = y[8*len(y)//10:]"
   ]
  },
  {
   "cell_type": "code",
   "execution_count": 45,
   "id": "9d512089",
   "metadata": {},
   "outputs": [
    {
     "data": {
      "text/plain": [
       "0.641"
      ]
     },
     "execution_count": 45,
     "metadata": {},
     "output_type": "execute_result"
    }
   ],
   "source": [
    "model = linear_model.LogisticRegression()\n",
    "model.fit(X_train, y_train)\n",
    "predictions = model.predict(X_valid)\n",
    "correct = predictions == y_valid\n",
    "acc8 = sum(correct) / len(correct)\n",
    "acc8"
   ]
  },
  {
   "cell_type": "code",
   "execution_count": 46,
   "id": "e3913bd5",
   "metadata": {},
   "outputs": [],
   "source": [
    "answers['Q8'] = acc8"
   ]
  },
  {
   "cell_type": "code",
   "execution_count": 47,
   "id": "a3dc3c7c",
   "metadata": {},
   "outputs": [],
   "source": [
    "assertFloat(answers['Q8'])"
   ]
  },
  {
   "cell_type": "code",
   "execution_count": 48,
   "id": "f77dc611",
   "metadata": {},
   "outputs": [
    {
     "data": {
      "text/plain": [
       "array([3, 3, 0, ..., 2, 2, 2])"
      ]
     },
     "execution_count": 48,
     "metadata": {},
     "output_type": "execute_result"
    }
   ],
   "source": [
    "# Run on test set\n",
    "dataSet = []\n",
    "for d in readGz(\"test_Category.json.gz\"):\n",
    "    dataSet.append(d)\n",
    "\n",
    "Xdata = [feature(d) for d in dataSet]\n",
    "predData = model.predict(Xdata)\n",
    "predData"
   ]
  },
  {
   "cell_type": "code",
   "execution_count": 49,
   "id": "e2f18b4e",
   "metadata": {},
   "outputs": [],
   "source": [
    "predictions = open(\"predictions_Category.csv\", 'w')\n",
    "pos = 0\n",
    "\n",
    "index = 0\n",
    "for l in open(\"pairs_Category.csv\"):\n",
    "    if l.startswith(\"userID\"):\n",
    "        predictions.write(l)\n",
    "        continue\n",
    "    u,b = l.strip().split(',')\n",
    "    # (etc.)\n",
    "    predictions.write(u + ',' + b + ',' + str(predData[index]) + '\\n')\n",
    "    index += 1\n",
    "\n",
    "predictions.close()"
   ]
  },
  {
   "cell_type": "code",
   "execution_count": 50,
   "id": "839261ed",
   "metadata": {},
   "outputs": [],
   "source": [
    "f = open(\"answers_hw3.txt\", 'w')\n",
    "f.write(str(answers) + '\\n')\n",
    "f.close()"
   ]
  },
  {
   "cell_type": "code",
   "execution_count": null,
   "id": "3000bdde",
   "metadata": {},
   "outputs": [],
   "source": []
  }
 ],
 "metadata": {
  "kernelspec": {
   "display_name": "Python 3.10.7 64-bit",
   "language": "python",
   "name": "python3"
  },
  "language_info": {
   "codemirror_mode": {
    "name": "ipython",
    "version": 3
   },
   "file_extension": ".py",
   "mimetype": "text/x-python",
   "name": "python",
   "nbconvert_exporter": "python",
   "pygments_lexer": "ipython3",
   "version": "3.10.7"
  },
  "vscode": {
   "interpreter": {
    "hash": "aee8b7b246df8f9039afb4144a1f6fd8d2ca17a180786b69acc140d282b71a49"
   }
  }
 },
 "nbformat": 4,
 "nbformat_minor": 5
}
